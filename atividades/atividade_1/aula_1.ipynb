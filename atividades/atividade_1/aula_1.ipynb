{
  "cells": [
    {
      "cell_type": "markdown",
      "metadata": {
        "id": "view-in-github",
        "colab_type": "text"
      },
      "source": [
        "<a href=\"https://colab.research.google.com/github/otavioon/course-1/blob/main/aulas/aula_1.ipynb\" target=\"_parent\"><img src=\"https://colab.research.google.com/assets/colab-badge.svg\" alt=\"Open In Colab\"/></a>"
      ]
    },
    {
      "cell_type": "code",
      "execution_count": 5,
      "metadata": {
        "colab": {
          "base_uri": "https://localhost:8080/"
        },
        "id": "_EkE79HV_fwE",
        "outputId": "41bec483-954e-4fe7-beac-ce691e877237"
      },
      "outputs": [
        {
          "output_type": "stream",
          "name": "stdout",
          "text": [
            "Pipeline results are equal\n"
          ]
        }
      ],
      "source": [
        "import numpy as np\n",
        "from sklearn.naive_bayes import GaussianNB\n",
        "from sklearn.preprocessing import MinMaxScaler, StandardScaler\n",
        "from sklearn.pipeline import make_pipeline, Pipeline\n",
        "from sklearn.datasets import make_blobs\n",
        "# Set the random seed for reproducibility\n",
        "random_seed = 42\n",
        "\n",
        "# Generate blob data\n",
        "X, y = make_blobs(n_samples=100, centers=2, random_state=random_seed)\n",
        "\n",
        "# Create pipelines\n",
        "# 1. Using make_pipeline function\n",
        "# 2. Using Pipeline class\n",
        "pipeline_maked = make_pipeline(MinMaxScaler(), StandardScaler())\n",
        "pipeline_with_class = Pipeline([[\"min-max\", MinMaxScaler()], [\"std-scaler\", StandardScaler()]])\n",
        "\n",
        "# Fit and transform the data\n",
        "r_maked = pipeline_maked.fit_transform(X, y)\n",
        "r_with_class = pipeline_with_class.fit_transform(X, y)\n",
        "\n",
        "# Compare, assrting equality\n",
        "assert np.allclose(r_maked, r_with_class)\n",
        "print(\"Pipeline results are equal\")"
      ]
    }
  ],
  "metadata": {
    "kernelspec": {
      "display_name": "Python 3",
      "language": "python",
      "name": "python3"
    },
    "language_info": {
      "codemirror_mode": {
        "name": "ipython",
        "version": 3
      },
      "file_extension": ".py",
      "mimetype": "text/x-python",
      "name": "python",
      "nbconvert_exporter": "python",
      "pygments_lexer": "ipython3",
      "version": "3.10.6"
    },
    "colab": {
      "provenance": [],
      "include_colab_link": true
    }
  },
  "nbformat": 4,
  "nbformat_minor": 0
}